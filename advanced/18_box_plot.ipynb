{
 "cells": [
  {
   "cell_type": "code",
   "execution_count": 1,
   "id": "ccbf3fdb",
   "metadata": {},
   "outputs": [
    {
     "name": "stderr",
     "output_type": "stream",
     "text": [
      "c:\\Users\\Pratyaksh\\anaconda3\\envs\\python_course\\Lib\\site-packages\\tqdm\\auto.py:21: TqdmWarning: IProgress not found. Please update jupyter and ipywidgets. See https://ipywidgets.readthedocs.io/en/stable/user_install.html\n",
      "  from .autonotebook import tqdm as notebook_tqdm\n"
     ]
    }
   ],
   "source": [
    "import ast\n",
    "import pandas as pd\n",
    "from datasets import load_dataset\n",
    "import matplotlib.pyplot as plt\n",
    "\n",
    "\n",
    "#loading data\n",
    "\n",
    "dataset=load_dataset('lukebarousse/data_jobs')\n",
    "df= dataset['train'].to_pandas()\n",
    "\n",
    "# Data Cleanup\n",
    "\n",
    "df['job_posted_date']= pd.to_datetime(df['job_posted_date'])\n",
    "df['job_skills']=df['job_skills'].apply(lambda skill_list:ast.literal_eval(skill_list)if pd.notna(skill_list) else skill_list)\n",
    "\n"
   ]
  },
  {
   "cell_type": "code",
   "execution_count": 2,
   "id": "31c50705",
   "metadata": {},
   "outputs": [],
   "source": [
    "df_da_us= df[(df['job_title_short']=='Data Analyst') & (df['job_country']=='United States')].copy()"
   ]
  },
  {
   "cell_type": "code",
   "execution_count": 3,
   "id": "8a82bfbf",
   "metadata": {},
   "outputs": [],
   "source": [
    "df_da_us= df_da_us.dropna(subset='salary_year_avg')"
   ]
  },
  {
   "cell_type": "code",
   "execution_count": 4,
   "id": "915630ef",
   "metadata": {},
   "outputs": [
    {
     "data": {
      "text/plain": [
       "218151     75000.0\n",
       "110226     83243.0\n",
       "659737     90000.0\n",
       "12530      52500.0\n",
       "612427    100000.0\n",
       "432978     90000.0\n",
       "294721    140000.0\n",
       "267298    115000.0\n",
       "190423    101821.5\n",
       "682558    120040.0\n",
       "Name: salary_year_avg, dtype: float64"
      ]
     },
     "execution_count": 4,
     "metadata": {},
     "output_type": "execute_result"
    }
   ],
   "source": [
    "df_da_us['salary_year_avg'].sample(10)"
   ]
  },
  {
   "cell_type": "code",
   "execution_count": 7,
   "id": "c94b47f4",
   "metadata": {},
   "outputs": [
    {
     "data": {
      "text/plain": [
       "<Axes: >"
      ]
     },
     "execution_count": 7,
     "metadata": {},
     "output_type": "execute_result"
    },
    {
     "data": {
      "image/png": "[encoded data removed]",
      "text/plain": [
       "<Figure size 640x480 with 1 Axes>"
      ]
     },
     "metadata": {},
     "output_type": "display_data"
    }
   ],
   "source": [
    "df_da_us['salary_year_avg'].plot(kind='box',vert=False)"
   ]
  },
  {
   "cell_type": "code",
   "execution_count": 11,
   "id": "7454b085",
   "metadata": {},
   "outputs": [
    {
     "data": {
      "image/png": "[encoded data removed]",
      "text/plain": [
       "<Figure size 640x480 with 1 Axes>"
      ]
     },
     "metadata": {},
     "output_type": "display_data"
    }
   ],
   "source": [
    "plt.boxplot(df_da_us['salary_year_avg'],vert=False)\n",
    "ax=plt.gca()\n",
    "ax.xaxis.set_major_formatter(plt.FuncFormatter(lambda x,_: f\"${int(x/1000):.0f}K\"))"
   ]
  },
  {
   "cell_type": "code",
   "execution_count": 12,
   "id": "2fac5159",
   "metadata": {},
   "outputs": [],
   "source": [
    "job_titles=['Data Analyst','Data Scientist','Data Engineer']\n",
    "\n",
    "df_us=df[(df['job_title_short'].isin(job_titles)) & (df['job_country']=='United States')].copy()"
   ]
  },
  {
   "cell_type": "code",
   "execution_count": 21,
   "id": "7222fdb0",
   "metadata": {},
   "outputs": [],
   "source": [
    "df_us=df_us.dropna(subset='salary_year_avg')"
   ]
  },
  {
   "cell_type": "code",
   "execution_count": 22,
   "id": "7a1c816f",
   "metadata": {},
   "outputs": [],
   "source": [
    "job_list=[df_us[df_us['job_title_short']==job_title]['salary_year_avg'] for job_title in job_titles]\n"
   ]
  },
  {
   "cell_type": "code",
   "execution_count": null,
   "id": "d0c3881f",
   "metadata": {},
   "outputs": [],
   "source": [
    "plt.boxplot(job_list,label=job_titles,vert=False)"
   ]
  },
  {
   "cell_type": "code",
   "execution_count": 16,
   "id": "6e031cad",
   "metadata": {},
   "outputs": [
    {
     "data": {
      "text/plain": [
       "job_title_short\n",
       "Data Scientist    4553\n",
       "Data Analyst      4350\n",
       "Data Engineer     2915\n",
       "Name: count, dtype: int64"
      ]
     },
     "execution_count": 16,
     "metadata": {},
     "output_type": "execute_result"
    }
   ],
   "source": [
    "df_us['job_title_short'].value_counts()"
   ]
  },
  {
   "cell_type": "code",
   "execution_count": 23,
   "id": "d6cde440",
   "metadata": {},
   "outputs": [
    {
     "data": {
      "text/plain": [
       "[109        89000.0\n",
       " 180        90250.0\n",
       " 410       133285.0\n",
       " 988        62623.0\n",
       " 1413       71300.0\n",
       "             ...   \n",
       " 782637     70000.0\n",
       " 782798    111175.0\n",
       " 783588    125000.0\n",
       " 783866    115000.0\n",
       " 784882     87500.0\n",
       " Name: salary_year_avg, Length: 4350, dtype: float64,\n",
       " 100       228222.0\n",
       " 116       114000.0\n",
       " 257       103128.0\n",
       " 450       157500.0\n",
       " 1257       70700.0\n",
       "             ...   \n",
       " 785324    234500.0\n",
       " 785488    115000.0\n",
       " 785563    136400.0\n",
       " 785648    221875.0\n",
       " 785692    157500.0\n",
       " Name: salary_year_avg, Length: 4553, dtype: float64,\n",
       " 92        120000.0\n",
       " 146       129500.0\n",
       " 307       185000.0\n",
       " 339       195000.0\n",
       " 380        97500.0\n",
       "             ...   \n",
       " 783111    125000.0\n",
       " 784102     90000.0\n",
       " 784191    217500.0\n",
       " 785624    139216.0\n",
       " 785641    150000.0\n",
       " Name: salary_year_avg, Length: 2915, dtype: float64]"
      ]
     },
     "execution_count": 23,
     "metadata": {},
     "output_type": "execute_result"
    }
   ],
   "source": [
    "job_list"
   ]
  },
  {
   "cell_type": "code",
   "execution_count": 30,
   "id": "d0655ff1",
   "metadata": {},
   "outputs": [
    {
     "name": "stderr",
     "output_type": "stream",
     "text": [
      "C:\\Users\\Pratyaksh\\AppData\\Local\\Temp\\ipykernel_19940\\3324860777.py:1: MatplotlibDeprecationWarning: The 'labels' parameter of boxplot() has been renamed 'tick_labels' since Matplotlib 3.9; support for the old name will be dropped in 3.11.\n",
      "  plt.boxplot(job_list,labels=job_titles,vert=False)\n"
     ]
    },
    {
     "data": {
      "image/png": "[encoded data removed]",
      "text/plain": [
       "<Figure size 640x480 with 1 Axes>"
      ]
     },
     "metadata": {},
     "output_type": "display_data"
    }
   ],
   "source": [
    "plt.boxplot(job_list,labels=job_titles,vert=False)\n",
    "ax=plt.gca()\n",
    "ax.xaxis.set_major_formatter(plt.FuncFormatter(lambda x,_: f\"${int(x/1000)}K\"))\n",
    "plt.xlim(0,600000)\n",
    "plt.title('Salary Distribution in the US')\n",
    "plt.xlabel('Yearly Salary($USD)')\n",
    "plt.show()"
   ]
  },
  {
   "cell_type": "code",
   "execution_count": null,
   "id": "2b224134",
   "metadata": {},
   "outputs": [],
   "source": []
  },
  {
   "cell_type": "code",
   "execution_count": null,
   "id": "812a2582",
   "metadata": {},
   "outputs": [],
   "source": []
  },
  {
   "cell_type": "code",
   "execution_count": null,
   "id": "30bec5f7",
   "metadata": {},
   "outputs": [],
   "source": []
  },
  {
   "cell_type": "code",
   "execution_count": null,
   "id": "ee48d9a1",
   "metadata": {},
   "outputs": [],
   "source": []
  }
 ],
 "metadata": {
  "kernelspec": {
   "display_name": "python_course",
   "language": "python",
   "name": "python3"
  },
  "language_info": {
   "codemirror_mode": {
    "name": "ipython",
    "version": 3
   },
   "file_extension": ".py",
   "mimetype": "text/x-python",
   "name": "python",
   "nbconvert_exporter": "python",
   "pygments_lexer": "ipython3",
   "version": "3.11.13"
  }
 },
 "nbformat": 4,
 "nbformat_minor": 5
}
