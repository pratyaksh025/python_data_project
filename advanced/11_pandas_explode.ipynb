{
 "cells": [
  {
   "cell_type": "code",
   "execution_count": 1,
   "id": "d43de2f7",
   "metadata": {},
   "outputs": [
    {
     "name": "stderr",
     "output_type": "stream",
     "text": [
      "c:\\Users\\Pratyaksh\\anaconda3\\envs\\python_course\\Lib\\site-packages\\tqdm\\auto.py:21: TqdmWarning: IProgress not found. Please update jupyter and ipywidgets. See https://ipywidgets.readthedocs.io/en/stable/user_install.html\n",
      "  from .autonotebook import tqdm as notebook_tqdm\n"
     ]
    }
   ],
   "source": [
    "import ast\n",
    "import pandas as pd\n",
    "from datasets import load_dataset\n",
    "import matplotlib.pyplot as plt\n",
    "\n",
    "\n",
    "#loading data\n",
    "\n",
    "dataset=load_dataset('lukebarousse/data_jobs')\n",
    "df= dataset['train'].to_pandas()\n",
    "\n",
    "# Data Cleanup\n",
    "\n",
    "df['job_posted_date']= pd.to_datetime(df['job_posted_date'])\n",
    "df['job_skills']=df['job_skills'].apply(lambda skill_list:ast.literal_eval(skill_list)if pd.notna(skill_list) else skill_list)"
   ]
  },
  {
   "cell_type": "code",
   "execution_count": 2,
   "id": "cac08c88",
   "metadata": {},
   "outputs": [
    {
     "data": {
      "text/html": [
       "<div>\n",
       "<style scoped>\n",
       "    .dataframe tbody tr th:only-of-type {\n",
       "        vertical-align: middle;\n",
       "    }\n",
       "\n",
       "    .dataframe tbody tr th {\n",
       "        vertical-align: top;\n",
       "    }\n",
       "\n",
       "    .dataframe thead th {\n",
       "        text-align: right;\n",
       "    }\n",
       "</style>\n",
       "<table border=\"1\" class=\"dataframe\">\n",
       "  <thead>\n",
       "    <tr style=\"text-align: right;\">\n",
       "      <th></th>\n",
       "      <th>job_title_short</th>\n",
       "      <th>job_skills</th>\n",
       "    </tr>\n",
       "  </thead>\n",
       "  <tbody>\n",
       "    <tr>\n",
       "      <th>0</th>\n",
       "      <td>Senior Data Engineer</td>\n",
       "      <td>None</td>\n",
       "    </tr>\n",
       "    <tr>\n",
       "      <th>1</th>\n",
       "      <td>Data Analyst</td>\n",
       "      <td>[r, python, sql, nosql, power bi, tableau]</td>\n",
       "    </tr>\n",
       "    <tr>\n",
       "      <th>2</th>\n",
       "      <td>Data Engineer</td>\n",
       "      <td>[python, sql, c#, azure, airflow, dax, docker,...</td>\n",
       "    </tr>\n",
       "    <tr>\n",
       "      <th>3</th>\n",
       "      <td>Data Engineer</td>\n",
       "      <td>[python, c++, java, matlab, aws, tensorflow, k...</td>\n",
       "    </tr>\n",
       "    <tr>\n",
       "      <th>4</th>\n",
       "      <td>Data Engineer</td>\n",
       "      <td>[bash, python, oracle, aws, ansible, puppet, j...</td>\n",
       "    </tr>\n",
       "  </tbody>\n",
       "</table>\n",
       "</div>"
      ],
      "text/plain": [
       "        job_title_short                                         job_skills\n",
       "0  Senior Data Engineer                                               None\n",
       "1          Data Analyst         [r, python, sql, nosql, power bi, tableau]\n",
       "2         Data Engineer  [python, sql, c#, azure, airflow, dax, docker,...\n",
       "3         Data Engineer  [python, c++, java, matlab, aws, tensorflow, k...\n",
       "4         Data Engineer  [bash, python, oracle, aws, ansible, puppet, j..."
      ]
     },
     "execution_count": 2,
     "metadata": {},
     "output_type": "execute_result"
    }
   ],
   "source": [
    "df[['job_title_short','job_skills']].head()"
   ]
  },
  {
   "cell_type": "code",
   "execution_count": 3,
   "id": "756d41d1",
   "metadata": {},
   "outputs": [
    {
     "name": "stdout",
     "output_type": "stream",
     "text": [
      "Help on method explode in module pandas.core.frame:\n",
      "\n",
      "explode(column: 'IndexLabel', ignore_index: 'bool' = False) -> 'DataFrame' method of pandas.core.frame.DataFrame instance\n",
      "    Transform each element of a list-like to a row, replicating index values.\n",
      "    \n",
      "    Parameters\n",
      "    ----------\n",
      "    column : IndexLabel\n",
      "        Column(s) to explode.\n",
      "        For multiple columns, specify a non-empty list with each element\n",
      "        be str or tuple, and all specified columns their list-like data\n",
      "        on same row of the frame must have matching length.\n",
      "    \n",
      "        .. versionadded:: 1.3.0\n",
      "            Multi-column explode\n",
      "    \n",
      "    ignore_index : bool, default False\n",
      "        If True, the resulting index will be labeled 0, 1, …, n - 1.\n",
      "    \n",
      "    Returns\n",
      "    -------\n",
      "    DataFrame\n",
      "        Exploded lists to rows of the subset columns;\n",
      "        index will be duplicated for these rows.\n",
      "    \n",
      "    Raises\n",
      "    ------\n",
      "    ValueError :\n",
      "        * If columns of the frame are not unique.\n",
      "        * If specified columns to explode is empty list.\n",
      "        * If specified columns to explode have not matching count of\n",
      "          elements rowwise in the frame.\n",
      "    \n",
      "    See Also\n",
      "    --------\n",
      "    DataFrame.unstack : Pivot a level of the (necessarily hierarchical)\n",
      "        index labels.\n",
      "    DataFrame.melt : Unpivot a DataFrame from wide format to long format.\n",
      "    Series.explode : Explode a DataFrame from list-like columns to long format.\n",
      "    \n",
      "    Notes\n",
      "    -----\n",
      "    This routine will explode list-likes including lists, tuples, sets,\n",
      "    Series, and np.ndarray. The result dtype of the subset rows will\n",
      "    be object. Scalars will be returned unchanged, and empty list-likes will\n",
      "    result in a np.nan for that row. In addition, the ordering of rows in the\n",
      "    output will be non-deterministic when exploding sets.\n",
      "    \n",
      "    Reference :ref:`the user guide <reshaping.explode>` for more examples.\n",
      "    \n",
      "    Examples\n",
      "    --------\n",
      "    >>> df = pd.DataFrame({'A': [[0, 1, 2], 'foo', [], [3, 4]],\n",
      "    ...                    'B': 1,\n",
      "    ...                    'C': [['a', 'b', 'c'], np.nan, [], ['d', 'e']]})\n",
      "    >>> df\n",
      "               A  B          C\n",
      "    0  [0, 1, 2]  1  [a, b, c]\n",
      "    1        foo  1        NaN\n",
      "    2         []  1         []\n",
      "    3     [3, 4]  1     [d, e]\n",
      "    \n",
      "    Single-column explode.\n",
      "    \n",
      "    >>> df.explode('A')\n",
      "         A  B          C\n",
      "    0    0  1  [a, b, c]\n",
      "    0    1  1  [a, b, c]\n",
      "    0    2  1  [a, b, c]\n",
      "    1  foo  1        NaN\n",
      "    2  NaN  1         []\n",
      "    3    3  1     [d, e]\n",
      "    3    4  1     [d, e]\n",
      "    \n",
      "    Multi-column explode.\n",
      "    \n",
      "    >>> df.explode(list('AC'))\n",
      "         A  B    C\n",
      "    0    0  1    a\n",
      "    0    1  1    b\n",
      "    0    2  1    c\n",
      "    1  foo  1  NaN\n",
      "    2  NaN  1  NaN\n",
      "    3    3  1    d\n",
      "    3    4  1    e\n",
      "\n"
     ]
    }
   ],
   "source": [
    "help(df.explode)"
   ]
  },
  {
   "cell_type": "code",
   "execution_count": 81,
   "id": "eae16e0f",
   "metadata": {},
   "outputs": [],
   "source": [
    "df_exploded=df.explode('job_skills')"
   ]
  },
  {
   "cell_type": "code",
   "execution_count": 82,
   "id": "b6b4758e",
   "metadata": {},
   "outputs": [],
   "source": [
    "skills_count=df_exploded.groupby(['job_title_short','job_skills']).size()"
   ]
  },
  {
   "cell_type": "code",
   "execution_count": 83,
   "id": "f8f850ed",
   "metadata": {},
   "outputs": [
    {
     "data": {
      "text/plain": [
       "pandas.core.series.Series"
      ]
     },
     "execution_count": 83,
     "metadata": {},
     "output_type": "execute_result"
    }
   ],
   "source": [
    "type(skills_count)"
   ]
  },
  {
   "cell_type": "code",
   "execution_count": 84,
   "id": "4d25b9e5",
   "metadata": {},
   "outputs": [],
   "source": [
    "df_skills_count= skills_count.reset_index(name='skill_count')"
   ]
  },
  {
   "cell_type": "code",
   "execution_count": 85,
   "id": "d540f96c",
   "metadata": {},
   "outputs": [
    {
     "data": {
      "text/html": [
       "<div>\n",
       "<style scoped>\n",
       "    .dataframe tbody tr th:only-of-type {\n",
       "        vertical-align: middle;\n",
       "    }\n",
       "\n",
       "    .dataframe tbody tr th {\n",
       "        vertical-align: top;\n",
       "    }\n",
       "\n",
       "    .dataframe thead th {\n",
       "        text-align: right;\n",
       "    }\n",
       "</style>\n",
       "<table border=\"1\" class=\"dataframe\">\n",
       "  <thead>\n",
       "    <tr style=\"text-align: right;\">\n",
       "      <th></th>\n",
       "      <th>job_title_short</th>\n",
       "      <th>job_skills</th>\n",
       "      <th>skill_count</th>\n",
       "    </tr>\n",
       "  </thead>\n",
       "  <tbody>\n",
       "    <tr>\n",
       "      <th>0</th>\n",
       "      <td>Business Analyst</td>\n",
       "      <td>airflow</td>\n",
       "      <td>318</td>\n",
       "    </tr>\n",
       "    <tr>\n",
       "      <th>1</th>\n",
       "      <td>Business Analyst</td>\n",
       "      <td>airtable</td>\n",
       "      <td>17</td>\n",
       "    </tr>\n",
       "    <tr>\n",
       "      <th>2</th>\n",
       "      <td>Business Analyst</td>\n",
       "      <td>alteryx</td>\n",
       "      <td>1078</td>\n",
       "    </tr>\n",
       "    <tr>\n",
       "      <th>3</th>\n",
       "      <td>Business Analyst</td>\n",
       "      <td>angular</td>\n",
       "      <td>87</td>\n",
       "    </tr>\n",
       "    <tr>\n",
       "      <th>4</th>\n",
       "      <td>Business Analyst</td>\n",
       "      <td>ansible</td>\n",
       "      <td>120</td>\n",
       "    </tr>\n",
       "    <tr>\n",
       "      <th>...</th>\n",
       "      <td>...</td>\n",
       "      <td>...</td>\n",
       "      <td>...</td>\n",
       "    </tr>\n",
       "    <tr>\n",
       "      <th>2251</th>\n",
       "      <td>Software Engineer</td>\n",
       "      <td>wrike</td>\n",
       "      <td>4</td>\n",
       "    </tr>\n",
       "    <tr>\n",
       "      <th>2252</th>\n",
       "      <td>Software Engineer</td>\n",
       "      <td>wsl</td>\n",
       "      <td>13</td>\n",
       "    </tr>\n",
       "    <tr>\n",
       "      <th>2253</th>\n",
       "      <td>Software Engineer</td>\n",
       "      <td>xamarin</td>\n",
       "      <td>35</td>\n",
       "    </tr>\n",
       "    <tr>\n",
       "      <th>2254</th>\n",
       "      <td>Software Engineer</td>\n",
       "      <td>yarn</td>\n",
       "      <td>145</td>\n",
       "    </tr>\n",
       "    <tr>\n",
       "      <th>2255</th>\n",
       "      <td>Software Engineer</td>\n",
       "      <td>zoom</td>\n",
       "      <td>229</td>\n",
       "    </tr>\n",
       "  </tbody>\n",
       "</table>\n",
       "<p>2256 rows × 3 columns</p>\n",
       "</div>"
      ],
      "text/plain": [
       "        job_title_short job_skills  skill_count\n",
       "0      Business Analyst    airflow          318\n",
       "1      Business Analyst   airtable           17\n",
       "2      Business Analyst    alteryx         1078\n",
       "3      Business Analyst    angular           87\n",
       "4      Business Analyst    ansible          120\n",
       "...                 ...        ...          ...\n",
       "2251  Software Engineer      wrike            4\n",
       "2252  Software Engineer        wsl           13\n",
       "2253  Software Engineer    xamarin           35\n",
       "2254  Software Engineer       yarn          145\n",
       "2255  Software Engineer       zoom          229\n",
       "\n",
       "[2256 rows x 3 columns]"
      ]
     },
     "execution_count": 85,
     "metadata": {},
     "output_type": "execute_result"
    }
   ],
   "source": [
    "df_skills_count"
   ]
  },
  {
   "cell_type": "code",
   "execution_count": 87,
   "id": "92e3cbbc",
   "metadata": {},
   "outputs": [],
   "source": [
    "df_skills_count= df_skills_count.sort_values(by='skill_count',ascending=False)"
   ]
  },
  {
   "cell_type": "code",
   "execution_count": 88,
   "id": "60d91249",
   "metadata": {},
   "outputs": [
    {
     "data": {
      "text/html": [
       "<div>\n",
       "<style scoped>\n",
       "    .dataframe tbody tr th:only-of-type {\n",
       "        vertical-align: middle;\n",
       "    }\n",
       "\n",
       "    .dataframe tbody tr th {\n",
       "        vertical-align: top;\n",
       "    }\n",
       "\n",
       "    .dataframe thead th {\n",
       "        text-align: right;\n",
       "    }\n",
       "</style>\n",
       "<table border=\"1\" class=\"dataframe\">\n",
       "  <thead>\n",
       "    <tr style=\"text-align: right;\">\n",
       "      <th></th>\n",
       "      <th>job_title_short</th>\n",
       "      <th>job_skills</th>\n",
       "      <th>skill_count</th>\n",
       "    </tr>\n",
       "  </thead>\n",
       "  <tbody>\n",
       "    <tr>\n",
       "      <th>1066</th>\n",
       "      <td>Data Scientist</td>\n",
       "      <td>python</td>\n",
       "      <td>113711</td>\n",
       "    </tr>\n",
       "    <tr>\n",
       "      <th>865</th>\n",
       "      <td>Data Engineer</td>\n",
       "      <td>sql</td>\n",
       "      <td>113130</td>\n",
       "    </tr>\n",
       "    <tr>\n",
       "      <th>830</th>\n",
       "      <td>Data Engineer</td>\n",
       "      <td>python</td>\n",
       "      <td>108022</td>\n",
       "    </tr>\n",
       "    <tr>\n",
       "      <th>625</th>\n",
       "      <td>Data Analyst</td>\n",
       "      <td>sql</td>\n",
       "      <td>92428</td>\n",
       "    </tr>\n",
       "    <tr>\n",
       "      <th>1101</th>\n",
       "      <td>Data Scientist</td>\n",
       "      <td>sql</td>\n",
       "      <td>78982</td>\n",
       "    </tr>\n",
       "    <tr>\n",
       "      <th>...</th>\n",
       "      <td>...</td>\n",
       "      <td>...</td>\n",
       "      <td>...</td>\n",
       "    </tr>\n",
       "    <tr>\n",
       "      <th>1166</th>\n",
       "      <td>Machine Learning Engineer</td>\n",
       "      <td>blazor</td>\n",
       "      <td>1</td>\n",
       "    </tr>\n",
       "    <tr>\n",
       "      <th>1175</th>\n",
       "      <td>Machine Learning Engineer</td>\n",
       "      <td>clickup</td>\n",
       "      <td>1</td>\n",
       "    </tr>\n",
       "    <tr>\n",
       "      <th>1213</th>\n",
       "      <td>Machine Learning Engineer</td>\n",
       "      <td>gatsby</td>\n",
       "      <td>1</td>\n",
       "    </tr>\n",
       "    <tr>\n",
       "      <th>567</th>\n",
       "      <td>Data Analyst</td>\n",
       "      <td>nuxt.js</td>\n",
       "      <td>1</td>\n",
       "    </tr>\n",
       "    <tr>\n",
       "      <th>631</th>\n",
       "      <td>Data Analyst</td>\n",
       "      <td>suse</td>\n",
       "      <td>1</td>\n",
       "    </tr>\n",
       "  </tbody>\n",
       "</table>\n",
       "<p>2256 rows × 3 columns</p>\n",
       "</div>"
      ],
      "text/plain": [
       "                job_title_short job_skills  skill_count\n",
       "1066             Data Scientist     python       113711\n",
       "865               Data Engineer        sql       113130\n",
       "830               Data Engineer     python       108022\n",
       "625                Data Analyst        sql        92428\n",
       "1101             Data Scientist        sql        78982\n",
       "...                         ...        ...          ...\n",
       "1166  Machine Learning Engineer     blazor            1\n",
       "1175  Machine Learning Engineer    clickup            1\n",
       "1213  Machine Learning Engineer     gatsby            1\n",
       "567                Data Analyst    nuxt.js            1\n",
       "631                Data Analyst       suse            1\n",
       "\n",
       "[2256 rows x 3 columns]"
      ]
     },
     "execution_count": 88,
     "metadata": {},
     "output_type": "execute_result"
    }
   ],
   "source": [
    "df_skills_count"
   ]
  },
  {
   "cell_type": "code",
   "execution_count": 94,
   "id": "2e77bc2c",
   "metadata": {},
   "outputs": [],
   "source": [
    "job_title= 'Data Engineer'\n",
    "top_skills= 15\n",
    "\n",
    "df_skill_final= df_skills_count[df_skills_count['job_title_short']==job_title].head(top_skills)"
   ]
  },
  {
   "cell_type": "code",
   "execution_count": 99,
   "id": "fb78eb16",
   "metadata": {},
   "outputs": [
    {
     "data": {
      "image/png": "[encoded data removed]",
      "text/plain": [
       "<Figure size 640x480 with 1 Axes>"
      ]
     },
     "metadata": {},
     "output_type": "display_data"
    }
   ],
   "source": [
    "df_skill_final.plot(kind='barh',x='job_skills',y='skill_count')\n",
    "plt.gca().invert_yaxis()\n",
    "plt.title(f\"Top {top_skills} Skills for {job_title}\")\n",
    "plt.xlabel('Job Posting Count')\n",
    "plt.ylabel(\" \")\n",
    "plt.legend().set_visible(False)\n",
    "plt.show()"
   ]
  },
  {
   "cell_type": "code",
   "execution_count": 78,
   "id": "a2f72b5b",
   "metadata": {},
   "outputs": [],
   "source": [
    "df_skills_count_plot = df_skills_count[df_skills_count['job_title_short']== job_title].head(top_skills)"
   ]
  },
  {
   "cell_type": "code",
   "execution_count": 80,
   "id": "6e91c2a9",
   "metadata": {},
   "outputs": [
    {
     "data": {
      "image/png": "[encoded data removed]",
      "text/plain": [
       "<Figure size 640x480 with 1 Axes>"
      ]
     },
     "metadata": {},
     "output_type": "display_data"
    }
   ],
   "source": [
    "df_skills_count_plot.plot(kind='barh',x= 'job_skills',y='skill_count')\n",
    "plt.gca().invert_yaxis()\n"
   ]
  },
  {
   "cell_type": "code",
   "execution_count": null,
   "id": "a9ec26f5",
   "metadata": {},
   "outputs": [],
   "source": []
  },
  {
   "cell_type": "code",
   "execution_count": null,
   "id": "b6612e64",
   "metadata": {},
   "outputs": [],
   "source": []
  }
 ],
 "metadata": {
  "kernelspec": {
   "display_name": "python_course",
   "language": "python",
   "name": "python3"
  },
  "language_info": {
   "codemirror_mode": {
    "name": "ipython",
    "version": 3
   },
   "file_extension": ".py",
   "mimetype": "text/x-python",
   "name": "python",
   "nbconvert_exporter": "python",
   "pygments_lexer": "ipython3",
   "version": "3.11.13"
  }
 },
 "nbformat": 4,
 "nbformat_minor": 5
}
